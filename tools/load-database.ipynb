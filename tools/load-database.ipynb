{
 "cells": [
  {
   "cell_type": "code",
   "execution_count": 1,
   "metadata": {},
   "outputs": [],
   "source": [
    "import sqlite3\n",
    "import pandas as pd"
   ]
  },
  {
   "cell_type": "code",
   "execution_count": 16,
   "metadata": {},
   "outputs": [],
   "source": [
    "PATH = \"../database/aibe_coffee.db\"\n",
    "\n",
    "conn = sqlite3.connect(PATH)\n",
    "cur = conn.cursor()"
   ]
  },
  {
   "cell_type": "code",
   "execution_count": 3,
   "metadata": {},
   "outputs": [
    {
     "name": "stdout",
     "output_type": "stream",
     "text": [
      "    id                user   debt\n",
      "0    1           RENE GROH   7.70\n",
      "1    2      HANNAH B BRAUN   4.90\n",
      "2    3             ALINA S   5.60\n",
      "3    4        LUISA NEUBIG  12.45\n",
      "4    5              NIE DA  11.20\n",
      "5    6             SIMON B   0.00\n",
      "6    7                ANKI   5.20\n",
      "7    8               JANNA   4.55\n",
      "8    9               MAREK   2.70\n",
      "9   10             JONAS A   2.10\n",
      "10  11           FRANZISKA   2.40\n",
      "11  12               SILVI   0.95\n",
      "12  13                  CJ   2.80\n",
      "13  14             MARLENE   4.70\n",
      "14  15                MAJA   5.25\n",
      "15  16              ANNE K   0.40\n",
      "16  17              MISCHA  -1.75\n",
      "17  18            JONAS FU   0.00\n",
      "18  19            ANNIKA H   0.00\n",
      "19  20         ANNE SOPHIA   6.55\n",
      "20  21     JOHANNA MUELLER   2.40\n",
      "21  22        ANNE BUESSEN   0.70\n",
      "22  23            BERNHARD   1.55\n",
      "23  24               SEBII   0.00\n",
      "24  25      JULIAN FISCHER   0.90\n",
      "25  26         AHMED SOFAN   0.00\n",
      "26  27               FABIO   1.05\n",
      "27  28                RAMY   2.00\n",
      "28  29            ARKANIVA   0.40\n",
      "29  30            STUDENTS   6.95\n",
      "30  31              MARC S   2.40\n",
      "31  32       BERKAY AKARSU   4.25\n",
      "32  33             CLAUDIA   3.20\n",
      "33  34               DRWHO   7.70\n",
      "34  35               SIMON   7.70\n",
      "35  36  BELINDA CZIERINSKI   0.35\n",
      "36  37           KATHARINA   2.10\n",
      "37  38       LAURA RABADAN   1.20\n",
      "38  39               PABLO   1.20\n",
      "39  40              MORITZ   3.00\n",
      "40  41         FABI WOLLER   3.00\n",
      "41  42        FLO MEHRKENS   2.45\n",
      "42  43        FLO MEHRKENS   2.45\n",
      "43  44              JASMIN   1.30\n",
      "44  45                AMIN   2.40\n",
      "45  46               ISLAM   0.00\n",
      "46  47               ISLAM   0.00\n",
      "47  48    DAVID BLUMENTHAL   1.10\n",
      "48  49                PAIR   0.30\n"
     ]
    }
   ],
   "source": [
    "users = pd.read_sql_query(\"SELECT * FROM users\", conn)\n",
    "print(users)"
   ]
  },
  {
   "cell_type": "code",
   "execution_count": 4,
   "metadata": {},
   "outputs": [
    {
     "name": "stdout",
     "output_type": "stream",
     "text": [
      "      id            user    product options  price                  time_stamp\n",
      "0      1       RENE GROH  americano    milk   0.35  2024-06-03 08:09:02.802201\n",
      "1      2  HANNAH B BRAUN     coffee    milk   0.35  2024-06-03 08:26:32.067030\n",
      "2      3         ALINA S     coffee    milk   0.35  2024-06-03 08:57:25.208200\n",
      "3      4    LUISA NEUBIG     coffee    milk   0.35  2024-06-03 09:00:18.590883\n",
      "4      5          NIE DA     coffee    milk   0.35  2024-06-03 09:01:02.996801\n",
      "..   ...             ...        ...     ...    ...                         ...\n",
      "786  787         ALINA S     coffee    milk   0.35  2024-07-19 01:52:16.162215\n",
      "787  788    LUISA NEUBIG     coffee    milk   0.35  2024-07-19 01:54:33.343870\n",
      "788  789          MISCHA     coffee           0.30  2024-07-19 01:54:56.279947\n",
      "789  790          MISCHA     coffee           0.30  2024-07-19 01:54:57.350460\n",
      "790  791          NIE DA     coffee    milk   0.35  2024-07-19 01:55:15.582640\n",
      "\n",
      "[791 rows x 6 columns]\n"
     ]
    }
   ],
   "source": [
    "consumed_products = pd.read_sql_query(\"SELECT * FROM consumed\", conn)\n",
    "print(consumed_products)"
   ]
  },
  {
   "cell_type": "code",
   "execution_count": 26,
   "metadata": {},
   "outputs": [
    {
     "data": {
      "text/plain": [
       "[(1, 'MISCHA', 'Descaling', 0.5, '2024-07-21 19:30:37.205586'),\n",
       " (2, 'MISCHA', 'Side Compartment Cleaning', 1.5, '2024-07-21 19:31:00.084902')]"
      ]
     },
     "execution_count": 26,
     "metadata": {},
     "output_type": "execute_result"
    }
   ],
   "source": [
    "cur.execute(\"SELECT id, user, cleaning_type, credit, time_stamp FROM cleaning\")\n",
    "cleaning_data = cur.fetchall()\n",
    "cleaning_data"
   ]
  },
  {
   "cell_type": "code",
   "execution_count": 31,
   "metadata": {},
   "outputs": [],
   "source": [
    "cur = conn.cursor()\n",
    "cur.execute(\"DELETE FROM cleaning\")\n",
    "conn.commit()"
   ]
  },
  {
   "cell_type": "code",
   "execution_count": 5,
   "metadata": {},
   "outputs": [
    {
     "name": "stdout",
     "output_type": "stream",
     "text": [
      "    id             user  amount                  time_stamp\n",
      "0    1        RENE GROH    0.70  2024-06-03 11:15:21.014219\n",
      "1    2             ANKI    1.30  2024-06-03 11:38:48.998396\n",
      "2    3      AHMED SOFAN    0.30  2024-06-21 03:03:39.529995\n",
      "3    4           ANNE K    0.40  2024-06-25 00:21:44.045414\n",
      "4    5          ALINA S    5.60  2024-06-30 23:04:50.352893\n",
      "5    6             ANKI    7.90  2024-06-30 23:04:54.602641\n",
      "6    7     ANNE BUESSEN    0.35  2024-06-30 23:04:58.192053\n",
      "7    8      ANNE SOPHIA    0.70  2024-06-30 23:05:02.710227\n",
      "8    9         ANNIKA H    0.70  2024-06-30 23:05:06.532624\n",
      "9   10         ARKANIVA    0.40  2024-06-30 23:05:10.254747\n",
      "10  11         BERNHARD    0.65  2024-06-30 23:05:13.446950\n",
      "11  12               CJ    4.15  2024-06-30 23:05:16.336602\n",
      "12  13            FABIO    0.30  2024-06-30 23:05:19.787707\n",
      "13  14        FRANZISKA    1.20  2024-06-30 23:05:22.797905\n",
      "14  15   HANNAH B BRAUN    6.30  2024-06-30 23:05:25.921411\n",
      "15  16            JANNA    4.50  2024-06-30 23:05:29.323304\n",
      "16  17  JOHANNA MUELLER    4.50  2024-06-30 23:05:40.329181\n",
      "17  18          JONAS A    3.30  2024-06-30 23:05:43.278799\n",
      "18  19         JONAS FU    0.90  2024-06-30 23:05:46.720278\n",
      "19  20   JULIAN FISCHER    2.10  2024-06-30 23:05:52.013625\n",
      "20  21     LUISA NEUBIG   11.50  2024-06-30 23:05:54.896190\n",
      "21  22             MAJA    0.35  2024-06-30 23:05:59.308195\n",
      "22  23            MAREK    5.80  2024-06-30 23:06:02.270519\n",
      "23  24          MARLENE    7.10  2024-06-30 23:06:05.127179\n",
      "24  25           MISCHA   10.80  2024-06-30 23:06:08.191702\n",
      "25  26           NIE DA   13.65  2024-06-30 23:06:10.963281\n",
      "26  27             RAMY    0.40  2024-06-30 23:06:13.910116\n",
      "27  28        RENE GROH   10.85  2024-06-30 23:06:16.753366\n",
      "28  29          SIMON B    0.35  2024-06-30 23:06:21.735180\n",
      "29  30         STUDENTS    0.40  2024-07-02 03:11:34.151154\n",
      "30  31         STUDENTS    0.40  2024-07-02 03:12:54.017440\n",
      "31  32            FABIO    8.75  2024-07-17 03:22:50.929249\n",
      "32  33           MISCHA   14.10  2024-07-19 15:57:01.955011\n"
     ]
    }
   ],
   "source": [
    "paid_debts = pd.read_sql_query(\"SELECT * FROM debt_paid\", conn)\n",
    "print(paid_debts)"
   ]
  },
  {
   "cell_type": "code",
   "execution_count": 6,
   "metadata": {},
   "outputs": [
    {
     "data": {
      "text/plain": [
       "[('AHMED SOFAN', 0, 0.0),\n",
       " ('ALINA S', 3.15, 5.599999999999999),\n",
       " ('AMIN', 1.5, 2.4),\n",
       " ('ANKI', 2.4000000000000004, 5.2),\n",
       " ('ANNE BUESSEN', 0.35, 0.7),\n",
       " ('ANNE K', 0.4, 0.4),\n",
       " ('ANNE SOPHIA', 3.05, 6.549999999999998),\n",
       " ('ANNIKA H', 0, 0.0),\n",
       " ('ARKANIVA', 0.4, 0.4),\n",
       " ('BELINDA CZIERINSKI', 0, 0.35),\n",
       " ('BERKAY AKARSU', 3.1, 4.249999999999999),\n",
       " ('BERNHARD', 0, 1.5499999999999998),\n",
       " ('CJ', 1.75, 2.8000000000000003),\n",
       " ('CLAUDIA', 2.0, 3.1999999999999997),\n",
       " ('DAVID BLUMENTHAL', 1.1, 1.1),\n",
       " ('DRWHO', 6.35, 7.6999999999999975),\n",
       " ('FABI WOLLER', 2.4, 2.9999999999999996),\n",
       " ('FABIO', 6.3, 1.0499999999999998),\n",
       " ('FLO MEHRKENS', 3.5, 2.45),\n",
       " ('FRANZISKA', 0.8, 2.4),\n",
       " ('HANNAH B BRAUN', 2.0999999999999996, 4.8999999999999995),\n",
       " ('ISLAM', 0, 0.0),\n",
       " ('JANNA', 3.15, 4.55),\n",
       " ('JASMIN', 0, 1.3),\n",
       " ('JOHANNA MUELLER', 1.2, 2.4),\n",
       " ('JONAS A', 0.8999999999999999, 2.1),\n",
       " ('JONAS FU', 0, 0.0),\n",
       " ('JULIAN FISCHER', 0.8999999999999999, 0.8999999999999999),\n",
       " ('KATHARINA', 1.0499999999999998, 2.1),\n",
       " ('LAURA RABADAN', 0.8999999999999999, 1.2),\n",
       " ('LUISA NEUBIG', 7.999999999999999, 12.449999999999992),\n",
       " ('MAJA', 3.5, 5.249999999999998),\n",
       " ('MARC S', 0.8999999999999999, 2.4),\n",
       " ('MAREK', 2.3, 2.7),\n",
       " ('MARLENE', 2.4, 4.699999999999998),\n",
       " ('MISCHA', 10.2, 0.0),\n",
       " ('MORITZ', 1.3499999999999999, 3.0),\n",
       " ('NIE DA', 7.0, 11.199999999999994),\n",
       " ('PABLO', 0.4, 1.2000000000000002),\n",
       " ('PAIR', 0.3, 0.3),\n",
       " ('RAMY', 0.8, 2.0),\n",
       " ('RENE GROH', 4.199999999999999, 7.699999999999997),\n",
       " ('SEBII', 0, 0.0),\n",
       " ('SILVI', 0.3, 0.95),\n",
       " ('SIMON', 4.85, 7.699999999999997),\n",
       " ('SIMON B', 0, 0.0),\n",
       " ('STUDENTS', 5.5, 6.949999999999999)]"
      ]
     },
     "execution_count": 6,
     "metadata": {},
     "output_type": "execute_result"
    }
   ],
   "source": [
    "import sys\n",
    "import os\n",
    "if os.path.abspath(\".\").endswith(\"tools\"):\n",
    "    os.chdir(\"..\")\n",
    "\n",
    "from backend.data_manager import DataManager\n",
    "data_manager = DataManager(\"database/aibe_coffee.db\")\n",
    "data_manager.get_users_recently_consumed()"
   ]
  }
 ],
 "metadata": {
  "kernelspec": {
   "display_name": "base",
   "language": "python",
   "name": "python3"
  },
  "language_info": {
   "codemirror_mode": {
    "name": "ipython",
    "version": 3
   },
   "file_extension": ".py",
   "mimetype": "text/x-python",
   "name": "python",
   "nbconvert_exporter": "python",
   "pygments_lexer": "ipython3",
   "version": "3.9.19"
  }
 },
 "nbformat": 4,
 "nbformat_minor": 2
}
