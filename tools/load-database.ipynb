{
 "cells": [
  {
   "cell_type": "code",
   "execution_count": 8,
   "metadata": {},
   "outputs": [],
   "source": [
    "import sqlite3\n",
    "import pandas as pd"
   ]
  },
  {
   "cell_type": "code",
   "execution_count": 9,
   "metadata": {},
   "outputs": [],
   "source": [
    "PATH = \"../database/aibe_coffee.db\"\n",
    "\n",
    "conn = sqlite3.connect(PATH)\n",
    "cur = conn.cursor()"
   ]
  },
  {
   "cell_type": "code",
   "execution_count": 10,
   "metadata": {},
   "outputs": [
    {
     "name": "stdout",
     "output_type": "stream",
     "text": [
      "   id user  debt\n",
      "0   1  MIS  0.65\n",
      "1   2   TY  0.00\n"
     ]
    }
   ],
   "source": [
    "users = pd.read_sql_query(\"SELECT * FROM users\", conn)\n",
    "print(users)"
   ]
  },
  {
   "cell_type": "code",
   "execution_count": 11,
   "metadata": {},
   "outputs": [
    {
     "name": "stdout",
     "output_type": "stream",
     "text": [
      "   id user product options  price                  time_stamp\n",
      "0   1  MIS  coffee           0.30  2024-07-19 10:56:32.713099\n",
      "1   2  MIS  coffee   sugar   0.35  2024-07-19 11:11:14.921305\n"
     ]
    }
   ],
   "source": [
    "consumed_products = pd.read_sql_query(\"SELECT * FROM consumed\", conn)\n",
    "print(consumed_products)"
   ]
  },
  {
   "cell_type": "code",
   "execution_count": 12,
   "metadata": {},
   "outputs": [
    {
     "name": "stdout",
     "output_type": "stream",
     "text": [
      "Empty DataFrame\n",
      "Columns: [id, user, amount, time_stamp]\n",
      "Index: []\n"
     ]
    }
   ],
   "source": [
    "paid_debts = pd.read_sql_query(\"SELECT * FROM debt_paid\", conn)\n",
    "print(paid_debts)"
   ]
  },
  {
   "cell_type": "code",
   "execution_count": 18,
   "metadata": {},
   "outputs": [
    {
     "data": {
      "text/plain": [
       "[('MIS', 0.6499999999999999)]"
      ]
     },
     "execution_count": 18,
     "metadata": {},
     "output_type": "execute_result"
    }
   ],
   "source": [
    "import sys\n",
    "import os\n",
    "if os.path.abspath(\".\").endswith(\"tools\"):\n",
    "    os.chdir(\"..\")\n",
    "\n",
    "from backend.data_manager import DataManager\n",
    "data_manager = DataManager(\"database/aibe_coffee.db\")\n",
    "data_manager.get_users_recently_consumed()"
   ]
  }
 ],
 "metadata": {
  "kernelspec": {
   "display_name": "base",
   "language": "python",
   "name": "python3"
  },
  "language_info": {
   "codemirror_mode": {
    "name": "ipython",
    "version": 3
   },
   "file_extension": ".py",
   "mimetype": "text/x-python",
   "name": "python",
   "nbconvert_exporter": "python",
   "pygments_lexer": "ipython3",
   "version": "3.9.19"
  }
 },
 "nbformat": 4,
 "nbformat_minor": 2
}
